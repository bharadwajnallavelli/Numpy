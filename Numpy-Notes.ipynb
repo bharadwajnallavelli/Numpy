{
 "cells": [
  {
   "cell_type": "markdown",
   "id": "6ae174f7",
   "metadata": {},
   "source": [
    "# Numpy\n",
    "1. Numpy is numerical python.\n",
    "2. It is fast multi dimensional arrays which provides various operations.\n",
    "3. Which supports standard mathematical operations on entire array data instead of writing loops."
   ]
  },
  {
   "cell_type": "code",
   "execution_count": 1,
   "id": "6ba88153",
   "metadata": {},
   "outputs": [
    {
     "name": "stdout",
     "output_type": "stream",
     "text": [
      "Requirement already satisfied: numpy in /Volumes/ExtremeSSD/Applications/anaconda3/lib/python3.10/site-packages (1.23.5)\r\n"
     ]
    }
   ],
   "source": [
    "# To install numpy latest version using pip\n",
    "!pip install numpy"
   ]
  },
  {
   "cell_type": "code",
   "execution_count": 3,
   "id": "7beabc63",
   "metadata": {},
   "outputs": [],
   "source": [
    "# Import numpy\n",
    "import numpy as np"
   ]
  },
  {
   "cell_type": "markdown",
   "id": "c0dfaba4",
   "metadata": {},
   "source": [
    "#### Numpy is ndimensional array object or ndarray which is fast and flexible container of array objects."
   ]
  },
  {
   "cell_type": "code",
   "execution_count": 4,
   "id": "472c6d91",
   "metadata": {},
   "outputs": [],
   "source": [
    "# Creating ndarray\n",
    "data = [23,435,43,234,23]\n",
    "data = np.array(data)"
   ]
  },
  {
   "cell_type": "code",
   "execution_count": 5,
   "id": "b18f94ae",
   "metadata": {},
   "outputs": [
    {
     "data": {
      "text/plain": [
       "array([ 23, 435,  43, 234,  23])"
      ]
     },
     "execution_count": 5,
     "metadata": {},
     "output_type": "execute_result"
    }
   ],
   "source": [
    "data"
   ]
  },
  {
   "cell_type": "markdown",
   "id": "f2a79e7d",
   "metadata": {},
   "source": [
    "#### Checking the shape and date type of numpy array"
   ]
  },
  {
   "cell_type": "code",
   "execution_count": 7,
   "id": "0ae047a8",
   "metadata": {},
   "outputs": [
    {
     "data": {
      "text/plain": [
       "(5,)"
      ]
     },
     "execution_count": 7,
     "metadata": {},
     "output_type": "execute_result"
    }
   ],
   "source": [
    "np.shape(data)"
   ]
  },
  {
   "cell_type": "code",
   "execution_count": 9,
   "id": "b4a2f817",
   "metadata": {},
   "outputs": [
    {
     "data": {
      "text/plain": [
       "dtype('int64')"
      ]
     },
     "execution_count": 9,
     "metadata": {},
     "output_type": "execute_result"
    }
   ],
   "source": [
    "data.dtype"
   ]
  },
  {
   "cell_type": "code",
   "execution_count": 16,
   "id": "d5073ac3",
   "metadata": {},
   "outputs": [],
   "source": [
    "# Another example for 2-dimensional array\n",
    "data2 = np.array([[1, 2, 3, 4], [5, 6, 7, 8]])"
   ]
  },
  {
   "cell_type": "code",
   "execution_count": 17,
   "id": "1106da76",
   "metadata": {},
   "outputs": [
    {
     "name": "stdout",
     "output_type": "stream",
     "text": [
      "(2, 4)\n"
     ]
    }
   ],
   "source": [
    "# Checking shape and dtype\n",
    "print(np.shape(data2))"
   ]
  },
  {
   "cell_type": "code",
   "execution_count": 18,
   "id": "3ad0cdb6",
   "metadata": {},
   "outputs": [
    {
     "data": {
      "text/plain": [
       "dtype('int64')"
      ]
     },
     "execution_count": 18,
     "metadata": {},
     "output_type": "execute_result"
    }
   ],
   "source": [
    "data2.dtype"
   ]
  },
  {
   "cell_type": "code",
   "execution_count": 19,
   "id": "95c1a54d",
   "metadata": {},
   "outputs": [
    {
     "data": {
      "text/plain": [
       "2"
      ]
     },
     "execution_count": 19,
     "metadata": {},
     "output_type": "execute_result"
    }
   ],
   "source": [
    "# Checking dimensions\n",
    "np.ndim(data2)"
   ]
  },
  {
   "cell_type": "markdown",
   "id": "4d4a6df9",
   "metadata": {},
   "source": [
    "#### In addition to np.array for creating the numpy arrays there are other options for creating the numpy arrays like np.ones and np.zeros."
   ]
  },
  {
   "cell_type": "code",
   "execution_count": 20,
   "id": "903f757a",
   "metadata": {},
   "outputs": [],
   "source": [
    "# Which creates the zeros of 10 one-dimension numpy array\n",
    "data3 = np.zeros(10)"
   ]
  },
  {
   "cell_type": "code",
   "execution_count": 21,
   "id": "a601ba4b",
   "metadata": {},
   "outputs": [
    {
     "data": {
      "text/plain": [
       "array([0., 0., 0., 0., 0., 0., 0., 0., 0., 0.])"
      ]
     },
     "execution_count": 21,
     "metadata": {},
     "output_type": "execute_result"
    }
   ],
   "source": [
    "data3"
   ]
  },
  {
   "cell_type": "code",
   "execution_count": 22,
   "id": "d226ec1b",
   "metadata": {},
   "outputs": [],
   "source": [
    "# Which creates the 1's of 10 one-dimension numpy array\n",
    "data4 = np.ones(10)"
   ]
  },
  {
   "cell_type": "code",
   "execution_count": 23,
   "id": "add5331a",
   "metadata": {},
   "outputs": [
    {
     "data": {
      "text/plain": [
       "array([1., 1., 1., 1., 1., 1., 1., 1., 1., 1.])"
      ]
     },
     "execution_count": 23,
     "metadata": {},
     "output_type": "execute_result"
    }
   ],
   "source": [
    "data4"
   ]
  },
  {
   "cell_type": "code",
   "execution_count": 25,
   "id": "b05a311c",
   "metadata": {},
   "outputs": [
    {
     "data": {
      "text/plain": [
       "array([[0., 0.],\n",
       "       [0., 0.]])"
      ]
     },
     "execution_count": 25,
     "metadata": {},
     "output_type": "execute_result"
    }
   ],
   "source": [
    "np.empty((2,2))"
   ]
  },
  {
   "cell_type": "code",
   "execution_count": 26,
   "id": "05e0a6fb",
   "metadata": {},
   "outputs": [
    {
     "data": {
      "text/plain": [
       "array([[1., 0.],\n",
       "       [0., 1.]])"
      ]
     },
     "execution_count": 26,
     "metadata": {},
     "output_type": "execute_result"
    }
   ],
   "source": [
    "# Which creates identity matrix\n",
    "np.eye(2)"
   ]
  },
  {
   "cell_type": "markdown",
   "id": "df0f0b4b",
   "metadata": {},
   "source": [
    "#### dtypes for ndarrays, the object containing the information that ndarrays needs to interpret."
   ]
  },
  {
   "cell_type": "code",
   "execution_count": 27,
   "id": "4cf98b5c",
   "metadata": {},
   "outputs": [],
   "source": [
    "# dtypes provided during array initialization itself.\n",
    "data5 = np.array([1,2,3,4], dtype=\"float\")"
   ]
  },
  {
   "cell_type": "code",
   "execution_count": 28,
   "id": "1703e7c8",
   "metadata": {},
   "outputs": [
    {
     "data": {
      "text/plain": [
       "array([1., 2., 3., 4.])"
      ]
     },
     "execution_count": 28,
     "metadata": {},
     "output_type": "execute_result"
    }
   ],
   "source": [
    "data5"
   ]
  },
  {
   "cell_type": "code",
   "execution_count": 29,
   "id": "20a99544",
   "metadata": {},
   "outputs": [
    {
     "data": {
      "text/plain": [
       "dtype('float64')"
      ]
     },
     "execution_count": 29,
     "metadata": {},
     "output_type": "execute_result"
    }
   ],
   "source": [
    "data5.dtype"
   ]
  },
  {
   "cell_type": "code",
   "execution_count": 30,
   "id": "282580ef",
   "metadata": {},
   "outputs": [
    {
     "data": {
      "text/plain": [
       "(4,)"
      ]
     },
     "execution_count": 30,
     "metadata": {},
     "output_type": "execute_result"
    }
   ],
   "source": [
    "data5.shape"
   ]
  },
  {
   "cell_type": "code",
   "execution_count": 31,
   "id": "11bb6b9e",
   "metadata": {},
   "outputs": [
    {
     "data": {
      "text/plain": [
       "4"
      ]
     },
     "execution_count": 31,
     "metadata": {},
     "output_type": "execute_result"
    }
   ],
   "source": [
    "data5.size"
   ]
  },
  {
   "cell_type": "markdown",
   "id": "3e51dd5e",
   "metadata": {},
   "source": [
    "#### Converting the dtype from one type to another type"
   ]
  },
  {
   "cell_type": "code",
   "execution_count": 35,
   "id": "b3fc5fdb",
   "metadata": {},
   "outputs": [],
   "source": [
    "data5 = data5.astype('int')"
   ]
  },
  {
   "cell_type": "code",
   "execution_count": 36,
   "id": "36e87a7e",
   "metadata": {},
   "outputs": [
    {
     "data": {
      "text/plain": [
       "dtype('int64')"
      ]
     },
     "execution_count": 36,
     "metadata": {},
     "output_type": "execute_result"
    }
   ],
   "source": [
    "data5.dtype"
   ]
  },
  {
   "cell_type": "markdown",
   "id": "8ab99cd3",
   "metadata": {},
   "source": [
    "#### Creating an numpy array with range of values"
   ]
  },
  {
   "cell_type": "code",
   "execution_count": 41,
   "id": "7e2f68c1",
   "metadata": {},
   "outputs": [
    {
     "data": {
      "text/plain": [
       "array([0, 1, 2, 3, 4, 5, 6, 7, 8, 9])"
      ]
     },
     "execution_count": 41,
     "metadata": {},
     "output_type": "execute_result"
    }
   ],
   "source": [
    "# Creating an numpy array with values upto 9\n",
    "np.arange(10)"
   ]
  },
  {
   "cell_type": "markdown",
   "id": "8e23cae7",
   "metadata": {},
   "source": [
    "#### Operations between arrays and scalar"
   ]
  },
  {
   "cell_type": "code",
   "execution_count": 47,
   "id": "d76bad0b",
   "metadata": {},
   "outputs": [],
   "source": [
    "# Create an numpy array\n",
    "data6 = np.array([[1,2,3,4],[5,6,7,8]])"
   ]
  },
  {
   "cell_type": "code",
   "execution_count": 48,
   "id": "e64cc2fd",
   "metadata": {},
   "outputs": [
    {
     "data": {
      "text/plain": [
       "array([[1, 2, 3, 4],\n",
       "       [5, 6, 7, 8]])"
      ]
     },
     "execution_count": 48,
     "metadata": {},
     "output_type": "execute_result"
    }
   ],
   "source": [
    "data6"
   ]
  },
  {
   "cell_type": "code",
   "execution_count": 50,
   "id": "0dd5ccfc",
   "metadata": {},
   "outputs": [
    {
     "data": {
      "text/plain": [
       "array([[ 1,  4,  9, 16],\n",
       "       [25, 36, 49, 64]])"
      ]
     },
     "execution_count": 50,
     "metadata": {},
     "output_type": "execute_result"
    }
   ],
   "source": [
    "# Multiplication of each element with another element of array\n",
    "data6 * data6"
   ]
  },
  {
   "cell_type": "code",
   "execution_count": 51,
   "id": "0d116e8a",
   "metadata": {},
   "outputs": [
    {
     "data": {
      "text/plain": [
       "array([[ 2,  4,  6,  8],\n",
       "       [10, 12, 14, 16]])"
      ]
     },
     "execution_count": 51,
     "metadata": {},
     "output_type": "execute_result"
    }
   ],
   "source": [
    "# addition\n",
    "data6 + data6"
   ]
  },
  {
   "cell_type": "code",
   "execution_count": 52,
   "id": "f8224b00",
   "metadata": {},
   "outputs": [
    {
     "data": {
      "text/plain": [
       "array([[0, 0, 0, 0],\n",
       "       [0, 0, 0, 0]])"
      ]
     },
     "execution_count": 52,
     "metadata": {},
     "output_type": "execute_result"
    }
   ],
   "source": [
    "# subtraction\n",
    "data6 - data6"
   ]
  },
  {
   "cell_type": "code",
   "execution_count": 53,
   "id": "1ddfe16b",
   "metadata": {},
   "outputs": [
    {
     "data": {
      "text/plain": [
       "array([[ 1,  4,  9, 16],\n",
       "       [25, 36, 49, 64]])"
      ]
     },
     "execution_count": 53,
     "metadata": {},
     "output_type": "execute_result"
    }
   ],
   "source": [
    "data6 ** 2"
   ]
  },
  {
   "cell_type": "markdown",
   "id": "799652bd",
   "metadata": {},
   "source": [
    "#### Numpy slicing or indexing will allow to fetch data from from array for single element of range of elements from range of index"
   ]
  },
  {
   "cell_type": "code",
   "execution_count": 57,
   "id": "21d66bea",
   "metadata": {},
   "outputs": [],
   "source": [
    "data7 = np.arange(10)"
   ]
  },
  {
   "cell_type": "code",
   "execution_count": 58,
   "id": "81af17dc",
   "metadata": {},
   "outputs": [
    {
     "data": {
      "text/plain": [
       "array([0, 1, 2, 3, 4, 5, 6, 7, 8, 9])"
      ]
     },
     "execution_count": 58,
     "metadata": {},
     "output_type": "execute_result"
    }
   ],
   "source": [
    "data7"
   ]
  },
  {
   "cell_type": "code",
   "execution_count": 61,
   "id": "b3f6ce45",
   "metadata": {},
   "outputs": [
    {
     "data": {
      "text/plain": [
       "2"
      ]
     },
     "execution_count": 61,
     "metadata": {},
     "output_type": "execute_result"
    }
   ],
   "source": [
    "# For individual element when provided index\n",
    "data7[2]"
   ]
  },
  {
   "cell_type": "code",
   "execution_count": 62,
   "id": "53326a7a",
   "metadata": {},
   "outputs": [
    {
     "data": {
      "text/plain": [
       "array([2, 3, 4, 5])"
      ]
     },
     "execution_count": 62,
     "metadata": {},
     "output_type": "execute_result"
    }
   ],
   "source": [
    "# With range of index\n",
    "data7[2:6]"
   ]
  },
  {
   "cell_type": "code",
   "execution_count": 64,
   "id": "72a0452e",
   "metadata": {},
   "outputs": [
    {
     "data": {
      "text/plain": [
       "array([2, 3, 4, 5, 6, 7, 8, 9])"
      ]
     },
     "execution_count": 64,
     "metadata": {},
     "output_type": "execute_result"
    }
   ],
   "source": [
    "# After index 2 to end of array\n",
    "data7[2:]"
   ]
  },
  {
   "cell_type": "code",
   "execution_count": 65,
   "id": "663325fd",
   "metadata": {},
   "outputs": [
    {
     "data": {
      "text/plain": [
       "array([[1, 2, 3, 4],\n",
       "       [5, 6, 7, 8]])"
      ]
     },
     "execution_count": 65,
     "metadata": {},
     "output_type": "execute_result"
    }
   ],
   "source": [
    "# For multidimensional array\n",
    "data6"
   ]
  },
  {
   "cell_type": "code",
   "execution_count": 66,
   "id": "b201d101",
   "metadata": {},
   "outputs": [
    {
     "data": {
      "text/plain": [
       "array([5, 6, 7, 8])"
      ]
     },
     "execution_count": 66,
     "metadata": {},
     "output_type": "execute_result"
    }
   ],
   "source": [
    "data6[1]"
   ]
  },
  {
   "cell_type": "code",
   "execution_count": 67,
   "id": "08a3c852",
   "metadata": {},
   "outputs": [
    {
     "data": {
      "text/plain": [
       "7"
      ]
     },
     "execution_count": 67,
     "metadata": {},
     "output_type": "execute_result"
    }
   ],
   "source": [
    "data6[1][2]"
   ]
  },
  {
   "cell_type": "markdown",
   "id": "71295e27",
   "metadata": {},
   "source": [
    "#### Fancy indexing"
   ]
  },
  {
   "cell_type": "code",
   "execution_count": 73,
   "id": "c11d0ca1",
   "metadata": {},
   "outputs": [],
   "source": [
    "# Used to fetch speicific index values from the numpy array\n",
    "data7 = np.array([3,4,12,43,23,13,45,2,345])"
   ]
  },
  {
   "cell_type": "code",
   "execution_count": 74,
   "id": "0b081236",
   "metadata": {},
   "outputs": [],
   "source": [
    "arr_index = np.array([2,5,8])"
   ]
  },
  {
   "cell_type": "code",
   "execution_count": 75,
   "id": "8c89ac4f",
   "metadata": {},
   "outputs": [
    {
     "data": {
      "text/plain": [
       "array([ 12,  13, 345])"
      ]
     },
     "execution_count": 75,
     "metadata": {},
     "output_type": "execute_result"
    }
   ],
   "source": [
    "data7[arr_index]"
   ]
  },
  {
   "cell_type": "markdown",
   "id": "7a03b012",
   "metadata": {},
   "source": [
    "#### Transposing Arrays and Swapping Axes"
   ]
  },
  {
   "cell_type": "code",
   "execution_count": 76,
   "id": "b7af638d",
   "metadata": {},
   "outputs": [
    {
     "data": {
      "text/plain": [
       "array([[1, 2, 3, 4],\n",
       "       [5, 6, 7, 8]])"
      ]
     },
     "execution_count": 76,
     "metadata": {},
     "output_type": "execute_result"
    }
   ],
   "source": [
    "# Used to reshape the array\n",
    "data6"
   ]
  },
  {
   "cell_type": "code",
   "execution_count": 77,
   "id": "26c4c317",
   "metadata": {},
   "outputs": [
    {
     "data": {
      "text/plain": [
       "(2, 4)"
      ]
     },
     "execution_count": 77,
     "metadata": {},
     "output_type": "execute_result"
    }
   ],
   "source": [
    "data6.shape"
   ]
  },
  {
   "cell_type": "code",
   "execution_count": 84,
   "id": "203383b2",
   "metadata": {},
   "outputs": [],
   "source": [
    "data6 = data6.reshape((8,1))"
   ]
  },
  {
   "cell_type": "code",
   "execution_count": 86,
   "id": "d67395dc",
   "metadata": {},
   "outputs": [
    {
     "data": {
      "text/plain": [
       "(8, 1)"
      ]
     },
     "execution_count": 86,
     "metadata": {},
     "output_type": "execute_result"
    }
   ],
   "source": [
    "# After reshaping the shape will be (8, 1)\n",
    "data6.shape"
   ]
  },
  {
   "cell_type": "code",
   "execution_count": 87,
   "id": "646b6584",
   "metadata": {},
   "outputs": [],
   "source": [
    "# Randomly generate numbers\n",
    "data8 = np.random.randn(6, 3)"
   ]
  },
  {
   "cell_type": "code",
   "execution_count": 88,
   "id": "93cedcf7",
   "metadata": {},
   "outputs": [
    {
     "data": {
      "text/plain": [
       "array([[ 0.78705945, -1.49456957,  0.88348942],\n",
       "       [ 0.67179359, -0.50532685,  1.11521478],\n",
       "       [-0.14301067,  0.27007573, -0.30271955],\n",
       "       [-2.05194017,  0.37474241,  0.91292714],\n",
       "       [-0.0988678 ,  0.18682467,  0.49984688],\n",
       "       [-2.15705975,  1.84852216, -0.54957659]])"
      ]
     },
     "execution_count": 88,
     "metadata": {},
     "output_type": "execute_result"
    }
   ],
   "source": [
    "data8"
   ]
  },
  {
   "cell_type": "markdown",
   "id": "9a56eefe",
   "metadata": {},
   "source": [
    "#### Universal Functions: Fast Element-wise Array Functions\n",
    "#### Performs element wise operation"
   ]
  },
  {
   "cell_type": "code",
   "execution_count": 102,
   "id": "4c836fda",
   "metadata": {},
   "outputs": [],
   "source": [
    "data9 = np.arange(10)"
   ]
  },
  {
   "cell_type": "code",
   "execution_count": 103,
   "id": "cbe64971",
   "metadata": {},
   "outputs": [
    {
     "data": {
      "text/plain": [
       "array([0, 1, 2, 3, 4, 5, 6, 7, 8, 9])"
      ]
     },
     "execution_count": 103,
     "metadata": {},
     "output_type": "execute_result"
    }
   ],
   "source": [
    "data9"
   ]
  },
  {
   "cell_type": "code",
   "execution_count": 104,
   "id": "867a56e9",
   "metadata": {},
   "outputs": [
    {
     "data": {
      "text/plain": [
       "array([1.00000000e+00, 2.71828183e+00, 7.38905610e+00, 2.00855369e+01,\n",
       "       5.45981500e+01, 1.48413159e+02, 4.03428793e+02, 1.09663316e+03,\n",
       "       2.98095799e+03, 8.10308393e+03])"
      ]
     },
     "execution_count": 104,
     "metadata": {},
     "output_type": "execute_result"
    }
   ],
   "source": [
    "np.exp(data9)"
   ]
  },
  {
   "cell_type": "code",
   "execution_count": 110,
   "id": "51422250",
   "metadata": {},
   "outputs": [],
   "source": [
    "a = np.random.randn(9)\n",
    "b = np.random.randn(9)"
   ]
  },
  {
   "cell_type": "code",
   "execution_count": 111,
   "id": "6367f40c",
   "metadata": {},
   "outputs": [
    {
     "data": {
      "text/plain": [
       "array([-2.01953311, -0.4025476 ,  0.79344179,  1.47973153,  1.60941338,\n",
       "       -0.79699977,  0.07361036, -0.43620734, -0.09782398])"
      ]
     },
     "execution_count": 111,
     "metadata": {},
     "output_type": "execute_result"
    }
   ],
   "source": [
    "a"
   ]
  },
  {
   "cell_type": "code",
   "execution_count": 112,
   "id": "cf3f98bd",
   "metadata": {},
   "outputs": [
    {
     "data": {
      "text/plain": [
       "array([ 0.31542335, -1.54824885,  1.57315468,  1.49833375,  0.51828268,\n",
       "       -1.00473546, -1.01675639,  0.3648987 , -0.55161349])"
      ]
     },
     "execution_count": 112,
     "metadata": {},
     "output_type": "execute_result"
    }
   ],
   "source": [
    "b"
   ]
  },
  {
   "cell_type": "code",
   "execution_count": 114,
   "id": "987ecf70",
   "metadata": {},
   "outputs": [
    {
     "data": {
      "text/plain": [
       "array([ 0.31542335, -0.4025476 ,  1.57315468,  1.49833375,  1.60941338,\n",
       "       -0.79699977,  0.07361036,  0.3648987 , -0.09782398])"
      ]
     },
     "execution_count": 114,
     "metadata": {},
     "output_type": "execute_result"
    }
   ],
   "source": [
    "# Element wise compared between arrays\n",
    "np.maximum(a,b)"
   ]
  },
  {
   "cell_type": "code",
   "execution_count": 115,
   "id": "d8cbee4d",
   "metadata": {},
   "outputs": [
    {
     "data": {
      "text/plain": [
       "array([[ 0.78705945, -1.49456957,  0.88348942],\n",
       "       [ 0.67179359, -0.50532685,  1.11521478],\n",
       "       [-0.14301067,  0.27007573, -0.30271955],\n",
       "       [-2.05194017,  0.37474241,  0.91292714],\n",
       "       [-0.0988678 ,  0.18682467,  0.49984688],\n",
       "       [-2.15705975,  1.84852216, -0.54957659]])"
      ]
     },
     "execution_count": 115,
     "metadata": {},
     "output_type": "execute_result"
    }
   ],
   "source": [
    "data8"
   ]
  },
  {
   "cell_type": "code",
   "execution_count": 118,
   "id": "e4f8b120",
   "metadata": {},
   "outputs": [
    {
     "data": {
      "text/plain": [
       "array([[ 1.78705945, -0.49456957,  1.88348942],\n",
       "       [ 1.67179359,  0.49467315,  2.11521478],\n",
       "       [ 0.85698933,  1.27007573,  0.69728045],\n",
       "       [-1.05194017,  1.37474241,  1.91292714],\n",
       "       [ 0.9011322 ,  1.18682467,  1.49984688],\n",
       "       [-1.15705975,  2.84852216,  0.45042341]])"
      ]
     },
     "execution_count": 118,
     "metadata": {},
     "output_type": "execute_result"
    }
   ],
   "source": [
    "# Adding 1 to each element in array without using loops. Same we can do for subtraction, multiplication, division\n",
    "data8 + 1"
   ]
  },
  {
   "cell_type": "markdown",
   "id": "def0fe06",
   "metadata": {},
   "source": [
    "#### Mathematical and statistical data"
   ]
  },
  {
   "cell_type": "code",
   "execution_count": 119,
   "id": "24eba76a",
   "metadata": {},
   "outputs": [],
   "source": [
    "data9 = np.random.randn(5,6)"
   ]
  },
  {
   "cell_type": "code",
   "execution_count": 121,
   "id": "cc23fe88",
   "metadata": {},
   "outputs": [
    {
     "data": {
      "text/plain": [
       "array([[ 0.62036574,  0.28278313,  0.77614983,  0.22808938,  1.75307572,\n",
       "         0.39866629],\n",
       "       [-1.27655237, -0.91877962,  0.32868521,  0.86759589, -0.32479882,\n",
       "        -0.91470037],\n",
       "       [ 1.12828014,  0.60757453,  0.52397536, -1.37771421, -1.24345695,\n",
       "        -0.06623918],\n",
       "       [-0.71106904, -1.02384492, -0.06370413,  0.4695092 , -2.29200371,\n",
       "         2.43467668],\n",
       "       [ 0.88418785, -1.13008949,  1.78517865, -0.91336036,  1.63503929,\n",
       "        -1.00027524]])"
      ]
     },
     "execution_count": 121,
     "metadata": {},
     "output_type": "execute_result"
    }
   ],
   "source": [
    "data9"
   ]
  },
  {
   "cell_type": "code",
   "execution_count": 122,
   "id": "4dad7015",
   "metadata": {},
   "outputs": [
    {
     "data": {
      "text/plain": [
       "0.048908149320186035"
      ]
     },
     "execution_count": 122,
     "metadata": {},
     "output_type": "execute_result"
    }
   ],
   "source": [
    "data9.mean()"
   ]
  },
  {
   "cell_type": "code",
   "execution_count": 123,
   "id": "e1fd2465",
   "metadata": {},
   "outputs": [
    {
     "data": {
      "text/plain": [
       "2.4346766800471675"
      ]
     },
     "execution_count": 123,
     "metadata": {},
     "output_type": "execute_result"
    }
   ],
   "source": [
    "data9.max()"
   ]
  },
  {
   "cell_type": "code",
   "execution_count": 126,
   "id": "eed44dc3",
   "metadata": {},
   "outputs": [
    {
     "data": {
      "text/plain": [
       "-2.292003712742895"
      ]
     },
     "execution_count": 126,
     "metadata": {},
     "output_type": "execute_result"
    }
   ],
   "source": [
    "data9.min()"
   ]
  },
  {
   "cell_type": "code",
   "execution_count": 127,
   "id": "c842e441",
   "metadata": {},
   "outputs": [],
   "source": [
    "data10 = np.random.randn(5)"
   ]
  },
  {
   "cell_type": "code",
   "execution_count": 128,
   "id": "d562cd65",
   "metadata": {},
   "outputs": [
    {
     "data": {
      "text/plain": [
       "array([-0.21010792, -0.14527713, -0.59269073, -0.46393295, -2.36543087])"
      ]
     },
     "execution_count": 128,
     "metadata": {},
     "output_type": "execute_result"
    }
   ],
   "source": [
    "data10"
   ]
  },
  {
   "cell_type": "code",
   "execution_count": 132,
   "id": "3e03990e",
   "metadata": {},
   "outputs": [],
   "source": [
    "# Sorting the data\n",
    "data10.sort()"
   ]
  },
  {
   "cell_type": "code",
   "execution_count": 133,
   "id": "62cd48b9",
   "metadata": {},
   "outputs": [
    {
     "data": {
      "text/plain": [
       "array([-2.36543087, -0.59269073, -0.46393295, -0.21010792, -0.14527713])"
      ]
     },
     "execution_count": 133,
     "metadata": {},
     "output_type": "execute_result"
    }
   ],
   "source": [
    "data10"
   ]
  },
  {
   "cell_type": "markdown",
   "id": "f4240cc3",
   "metadata": {},
   "source": [
    "#### Uniques"
   ]
  },
  {
   "cell_type": "code",
   "execution_count": 134,
   "id": "e5162227",
   "metadata": {},
   "outputs": [],
   "source": [
    "data11 = np.array([2,3,2,2,2,4,4,5,6,7])"
   ]
  },
  {
   "cell_type": "code",
   "execution_count": 135,
   "id": "9f33b065",
   "metadata": {},
   "outputs": [
    {
     "data": {
      "text/plain": [
       "array([2, 3, 4, 5, 6, 7])"
      ]
     },
     "execution_count": 135,
     "metadata": {},
     "output_type": "execute_result"
    }
   ],
   "source": [
    "np.unique(data11)"
   ]
  },
  {
   "cell_type": "markdown",
   "id": "bac26f3a",
   "metadata": {},
   "source": [
    "#### Saving and loading data from files"
   ]
  },
  {
   "cell_type": "code",
   "execution_count": 137,
   "id": "2c6bcc82",
   "metadata": {},
   "outputs": [],
   "source": [
    "np.savetxt(\"data11.txt\", data11)"
   ]
  }
 ],
 "metadata": {
  "kernelspec": {
   "display_name": "Python 3 (ipykernel)",
   "language": "python",
   "name": "python3"
  },
  "language_info": {
   "codemirror_mode": {
    "name": "ipython",
    "version": 3
   },
   "file_extension": ".py",
   "mimetype": "text/x-python",
   "name": "python",
   "nbconvert_exporter": "python",
   "pygments_lexer": "ipython3",
   "version": "3.10.9"
  }
 },
 "nbformat": 4,
 "nbformat_minor": 5
}
